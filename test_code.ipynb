{
 "cells": [
  {
   "cell_type": "code",
   "execution_count": 1,
   "id": "4532e56c",
   "metadata": {},
   "outputs": [],
   "source": [
    "import jwt"
   ]
  },
  {
   "cell_type": "code",
   "execution_count": 2,
   "id": "67ccdb19",
   "metadata": {},
   "outputs": [
    {
     "data": {
      "text/plain": [
       "<bound method PyJWT.decode of <jwt.api_jwt.PyJWT object at 0x7573a33dee40>>"
      ]
     },
     "execution_count": 2,
     "metadata": {},
     "output_type": "execute_result"
    }
   ],
   "source": [
    "jwt.decode"
   ]
  }
 ],
 "metadata": {
  "kernelspec": {
   "display_name": "libris-api-py3.12",
   "language": "python",
   "name": "python3"
  },
  "language_info": {
   "codemirror_mode": {
    "name": "ipython",
    "version": 3
   },
   "file_extension": ".py",
   "mimetype": "text/x-python",
   "name": "python",
   "nbconvert_exporter": "python",
   "pygments_lexer": "ipython3",
   "version": "3.12.3"
  }
 },
 "nbformat": 4,
 "nbformat_minor": 5
}
